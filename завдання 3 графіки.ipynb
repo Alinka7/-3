{
 "cells": [
  {
   "cell_type": "code",
   "execution_count": 6,
   "metadata": {},
   "outputs": [],
   "source": [
    "import pandas as pd\n",
    "import numpy as np\n",
    "import timeit\n",
    "import matplotlib.pyplot as plt\n",
    "%matplotlib inline \n",
    "name='Data.csv'\n",
    "frame = pd.DataFrame() \n",
    "frame = pd.read_csv(name, sep='[; ]+', engine='python') \n"
   ]
  },
  {
   "cell_type": "code",
   "execution_count": 7,
   "metadata": {},
   "outputs": [],
   "source": [
    "frame = pd.read_csv(name, sep='[; ]+', engine='python') \n"
   ]
  },
  {
   "cell_type": "code",
   "execution_count": 42,
   "metadata": {},
   "outputs": [],
   "source": [
    "fr100 = frame[frame.index <= 100]"
   ]
  },
  {
   "cell_type": "code",
   "execution_count": 43,
   "metadata": {},
   "outputs": [
    {
     "name": "stdout",
     "output_type": "stream",
     "text": [
      "0.005192099999931088\n"
     ]
    }
   ],
   "source": [
    "start = timeit.default_timer()\n",
    "fr100[(fr100.Global_intensity >= 19) & (fr100.Global_intensity <= 20) & (fr100.Sub_metering_2 > fr100.Sub_metering_3)]\n",
    "a1=timeit.default_timer() - start\n",
    "print(a1)"
   ]
  },
  {
   "cell_type": "code",
   "execution_count": 44,
   "metadata": {},
   "outputs": [],
   "source": [
    "fr1000 = frame[frame.index <= 1000]"
   ]
  },
  {
   "cell_type": "code",
   "execution_count": 45,
   "metadata": {},
   "outputs": [
    {
     "name": "stdout",
     "output_type": "stream",
     "text": [
      "0.008218099999794504\n"
     ]
    },
    {
     "name": "stderr",
     "output_type": "stream",
     "text": [
      "D:\\anak\\lib\\site-packages\\ipykernel_launcher.py:2: UserWarning: Boolean Series key will be reindexed to match DataFrame index.\n",
      "  \n"
     ]
    }
   ],
   "source": [
    "start = timeit.default_timer()\n",
    "fr100[(fr1000.Global_intensity >= 19) & (fr1000.Global_intensity <= 20) & (fr1000.Sub_metering_2 > fr1000.Sub_metering_3)]\n",
    "b1=timeit.default_timer() - start\n",
    "print(b1)"
   ]
  },
  {
   "cell_type": "code",
   "execution_count": 46,
   "metadata": {},
   "outputs": [],
   "source": [
    "fr10000 = frame[frame.index <= 10000]"
   ]
  },
  {
   "cell_type": "code",
   "execution_count": 47,
   "metadata": {},
   "outputs": [
    {
     "name": "stdout",
     "output_type": "stream",
     "text": [
      "0.006679699999949662\n"
     ]
    }
   ],
   "source": [
    "start = timeit.default_timer()\n",
    "fr10000[(fr10000.Global_intensity >= 19) & (fr10000.Global_intensity <= 20) & (fr10000.Sub_metering_2 > fr10000.Sub_metering_3)]\n",
    "c1=timeit.default_timer() - start\n",
    "print(c1)"
   ]
  },
  {
   "cell_type": "code",
   "execution_count": 48,
   "metadata": {},
   "outputs": [],
   "source": [
    "fr100000 = frame[frame.index <= 100000]"
   ]
  },
  {
   "cell_type": "code",
   "execution_count": 49,
   "metadata": {},
   "outputs": [
    {
     "name": "stdout",
     "output_type": "stream",
     "text": [
      "0.005138200000146753\n"
     ]
    }
   ],
   "source": [
    "start = timeit.default_timer()\n",
    "fr100000[(fr100000.Global_intensity >= 19) & (fr100000.Global_intensity <= 20) & (fr100000.Sub_metering_2 > fr100000.Sub_metering_3)]\n",
    "d1=timeit.default_timer() - start\n",
    "print(d1)"
   ]
  },
  {
   "cell_type": "code",
   "execution_count": 50,
   "metadata": {},
   "outputs": [],
   "source": [
    "fr1000000 = frame[frame.index <= 1000000]"
   ]
  },
  {
   "cell_type": "code",
   "execution_count": 51,
   "metadata": {},
   "outputs": [
    {
     "name": "stdout",
     "output_type": "stream",
     "text": [
      "0.02605730000004769\n"
     ]
    }
   ],
   "source": [
    "start = timeit.default_timer()\n",
    "fr1000000[(fr1000000.Global_intensity >= 19) & (fr1000000.Global_intensity <= 20) & (fr1000000.Sub_metering_2 > fr1000000.Sub_metering_3)]\n",
    "e1=timeit.default_timer() - start\n",
    "print(e1)"
   ]
  },
  {
   "cell_type": "code",
   "execution_count": 52,
   "metadata": {},
   "outputs": [],
   "source": [
    "fr2 = frame[frame.index <= 2049280]"
   ]
  },
  {
   "cell_type": "code",
   "execution_count": 53,
   "metadata": {},
   "outputs": [
    {
     "name": "stdout",
     "output_type": "stream",
     "text": [
      "0.05806849999999031\n"
     ]
    }
   ],
   "source": [
    "start = timeit.default_timer()\n",
    "fr2[(fr2.Global_intensity >= 19) & (fr2.Global_intensity <= 20) & (fr2.Sub_metering_2 > fr2.Sub_metering_3)]\n",
    "g1=timeit.default_timer() - start\n",
    "print(g1)"
   ]
  },
  {
   "cell_type": "code",
   "execution_count": null,
   "metadata": {},
   "outputs": [],
   "source": []
  },
  {
   "cell_type": "code",
   "execution_count": 54,
   "metadata": {},
   "outputs": [],
   "source": [
    "m_els = np.genfromtxt('Data.csv', dtype={'names':('Date', 'Time', 'Global_active_power', 'Global_reactive_power', 'Voltage', 'Global_intensity', 'Sub_metering_1', 'Sub_metering_2', 'Sub_metering_3'), 'formats':('U8', 'U8', 'f8', 'f8', 'f8', 'f8', 'f8', 'f8', 'f8')}, delimiter=';')"
   ]
  },
  {
   "cell_type": "code",
   "execution_count": 55,
   "metadata": {},
   "outputs": [],
   "source": [
    "m_els = np.delete(m_els, (0), axis=0) "
   ]
  },
  {
   "cell_type": "code",
   "execution_count": 56,
   "metadata": {},
   "outputs": [],
   "source": [
    "mels100 = m_els[0:100]"
   ]
  },
  {
   "cell_type": "code",
   "execution_count": 57,
   "metadata": {},
   "outputs": [
    {
     "name": "stdout",
     "output_type": "stream",
     "text": [
      "0.0001399000002493267\n"
     ]
    }
   ],
   "source": [
    "start = timeit.default_timer()\n",
    "mels100[(mels100['Global_intensity']>= 19) & (mels100['Global_intensity'] <= 20) & (mels100['Sub_metering_2'] > mels100['Sub_metering_3'])]\n",
    "a = timeit.default_timer() - start\n",
    "print(a)"
   ]
  },
  {
   "cell_type": "code",
   "execution_count": 58,
   "metadata": {},
   "outputs": [],
   "source": [
    "mels1000 = m_els[0:1000]"
   ]
  },
  {
   "cell_type": "code",
   "execution_count": 59,
   "metadata": {},
   "outputs": [
    {
     "name": "stdout",
     "output_type": "stream",
     "text": [
      "0.00020780000022568856\n"
     ]
    }
   ],
   "source": [
    "start = timeit.default_timer()\n",
    "mels1000[(mels1000['Global_intensity']>= 19) & (mels1000['Global_intensity'] <= 20) & (mels1000['Sub_metering_2'] > mels1000['Sub_metering_3'])]\n",
    "b = timeit.default_timer() - start\n",
    "print(b)"
   ]
  },
  {
   "cell_type": "code",
   "execution_count": 60,
   "metadata": {},
   "outputs": [],
   "source": [
    "mels10000 = m_els[0:10000]"
   ]
  },
  {
   "cell_type": "code",
   "execution_count": 61,
   "metadata": {},
   "outputs": [
    {
     "name": "stdout",
     "output_type": "stream",
     "text": [
      "0.00046300000030896626\n"
     ]
    }
   ],
   "source": [
    "start = timeit.default_timer()\n",
    "mels10000[(mels10000['Global_intensity']>= 19) & (mels10000['Global_intensity'] <= 20) & (mels10000['Sub_metering_2'] > mels10000['Sub_metering_3'])]\n",
    "c = timeit.default_timer() - start\n",
    "print(c)"
   ]
  },
  {
   "cell_type": "code",
   "execution_count": 62,
   "metadata": {},
   "outputs": [],
   "source": [
    "mels100000 = m_els[0:100000]"
   ]
  },
  {
   "cell_type": "code",
   "execution_count": 63,
   "metadata": {},
   "outputs": [
    {
     "name": "stdout",
     "output_type": "stream",
     "text": [
      "0.002586100000371516\n"
     ]
    }
   ],
   "source": [
    "start = timeit.default_timer()\n",
    "mels100000[(mels100000['Global_intensity']>= 19) & (mels100000['Global_intensity'] <= 20) & (mels100000['Sub_metering_2'] > mels100000['Sub_metering_3'])]\n",
    "d = timeit.default_timer() - start\n",
    "print(d)"
   ]
  },
  {
   "cell_type": "code",
   "execution_count": 64,
   "metadata": {},
   "outputs": [],
   "source": [
    "mels1000000 = m_els[0:1000000]"
   ]
  },
  {
   "cell_type": "code",
   "execution_count": 65,
   "metadata": {},
   "outputs": [
    {
     "name": "stdout",
     "output_type": "stream",
     "text": [
      "0.02749760000006063\n"
     ]
    }
   ],
   "source": [
    "start = timeit.default_timer()\n",
    "mels1000000[(mels1000000['Global_intensity']>= 19) & (mels1000000['Global_intensity'] <= 20) & (mels1000000['Sub_metering_2'] > mels1000000['Sub_metering_3'])]\n",
    "e = timeit.default_timer() - start\n",
    "print(e)"
   ]
  },
  {
   "cell_type": "code",
   "execution_count": 66,
   "metadata": {},
   "outputs": [],
   "source": [
    "mels2 = m_els[0:2049280]"
   ]
  },
  {
   "cell_type": "code",
   "execution_count": 67,
   "metadata": {},
   "outputs": [
    {
     "name": "stdout",
     "output_type": "stream",
     "text": [
      "0.05223599999999351\n"
     ]
    }
   ],
   "source": [
    "start = timeit.default_timer()\n",
    "mels2[(mels2['Global_intensity']>= 19) & (mels2['Global_intensity'] <= 20) & (mels2['Sub_metering_2'] > mels2['Sub_metering_3'])]\n",
    "g = timeit.default_timer() - start\n",
    "print(g)"
   ]
  },
  {
   "cell_type": "code",
   "execution_count": 69,
   "metadata": {},
   "outputs": [
    {
     "data": {
      "text/plain": [
       "[<matplotlib.lines.Line2D at 0x240e8a680c8>]"
      ]
     },
     "execution_count": 69,
     "metadata": {},
     "output_type": "execute_result"
    },
    {
     "data": {
      "image/png": "[encoded data removed]",
      "text/plain": [
       "<Figure size 432x288 with 1 Axes>"
      ]
     },
     "metadata": {
      "needs_background": "light"
     },
     "output_type": "display_data"
    }
   ],
   "source": [
    "x = [100,1000, 10000,100000,1000000,2049280]\n",
    "y = [a, b, c, d, e,g]\n",
    "\n",
    "x1 = [100,1000, 10000,100000,1000000,2049280]\n",
    "y1 = [a1, b1, c1, d1, e1,g1]\n",
    "\n",
    "plt.plot(x1,y1,color=\"blue\")\n",
    "plt.plot(x,y,color=\"red\")"
   ]
  },
  {
   "cell_type": "code",
   "execution_count": null,
   "metadata": {},
   "outputs": [],
   "source": []
  }
 ],
 "metadata": {
  "kernelspec": {
   "display_name": "Python 3",
   "language": "python",
   "name": "python3"
  },
  "language_info": {
   "codemirror_mode": {
    "name": "ipython",
    "version": 3
   },
   "file_extension": ".py",
   "mimetype": "text/x-python",
   "name": "python",
   "nbconvert_exporter": "python",
   "pygments_lexer": "ipython3",
   "version": "3.7.4"
  }
 },
 "nbformat": 4,
 "nbformat_minor": 2
}
