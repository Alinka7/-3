{
 "cells": [
  {
   "cell_type": "code",
   "execution_count": 2,
   "metadata": {},
   "outputs": [],
   "source": [
    "import pandas as pd\n",
    "import timeit\n",
    "import matplotlib.pyplot as plt\n",
    "%matplotlib inline "
   ]
  },
  {
   "cell_type": "code",
   "execution_count": 3,
   "metadata": {},
   "outputs": [
    {
     "name": "stdout",
     "output_type": "stream",
     "text": [
      "Wall time: 19.3 s\n"
     ]
    }
   ],
   "source": [
    "%%time\n",
    "name='Data.csv'\n",
    "frame = pd.DataFrame() \n",
    "frame = pd.read_csv(name, sep='[; ]+', engine='python') \n"
   ]
  },
  {
   "cell_type": "code",
   "execution_count": 4,
   "metadata": {},
   "outputs": [],
   "source": [
    "fr100 = frame[frame.index <= 100]"
   ]
  },
  {
   "cell_type": "code",
   "execution_count": 5,
   "metadata": {},
   "outputs": [
    {
     "name": "stdout",
     "output_type": "stream",
     "text": [
      "0.0009911000000002446\n"
     ]
    }
   ],
   "source": [
    "start = timeit.default_timer()\n",
    "fr100[fr100['Global_active_power'] > 5]\n",
    "a1=timeit.default_timer() - start\n",
    "print(a1)"
   ]
  },
  {
   "cell_type": "code",
   "execution_count": 7,
   "metadata": {},
   "outputs": [],
   "source": [
    "fr1000 = frame[frame.index <= 1000]"
   ]
  },
  {
   "cell_type": "code",
   "execution_count": 8,
   "metadata": {},
   "outputs": [
    {
     "name": "stdout",
     "output_type": "stream",
     "text": [
      "0.0014292999999980793\n"
     ]
    }
   ],
   "source": [
    "start = timeit.default_timer()\n",
    "fr1000[fr1000['Global_active_power'] > 5]\n",
    "b1 = timeit.default_timer() - start\n",
    "print(b1)"
   ]
  },
  {
   "cell_type": "code",
   "execution_count": 9,
   "metadata": {},
   "outputs": [],
   "source": [
    "fr10000 = frame[frame.index <= 10000]"
   ]
  },
  {
   "cell_type": "code",
   "execution_count": 10,
   "metadata": {},
   "outputs": [
    {
     "name": "stdout",
     "output_type": "stream",
     "text": [
      "0.0017464999999958764\n"
     ]
    }
   ],
   "source": [
    "start = timeit.default_timer()\n",
    "fr10000[fr10000['Global_active_power'] > 5]\n",
    "c1=timeit.default_timer() - start\n",
    "print(c1)"
   ]
  },
  {
   "cell_type": "code",
   "execution_count": 11,
   "metadata": {},
   "outputs": [],
   "source": [
    "fr100000 = frame[frame.index <= 100000]"
   ]
  },
  {
   "cell_type": "code",
   "execution_count": 12,
   "metadata": {},
   "outputs": [
    {
     "name": "stdout",
     "output_type": "stream",
     "text": [
      "0.00364730000000435\n"
     ]
    }
   ],
   "source": [
    "start = timeit.default_timer()\n",
    "fr100000[fr100000['Global_active_power'] > 5]\n",
    "d1=timeit.default_timer() - start\n",
    "print(d1)"
   ]
  },
  {
   "cell_type": "code",
   "execution_count": 13,
   "metadata": {},
   "outputs": [],
   "source": [
    "fr1000000 = frame[frame.index <= 1000000]"
   ]
  },
  {
   "cell_type": "code",
   "execution_count": 14,
   "metadata": {},
   "outputs": [
    {
     "name": "stdout",
     "output_type": "stream",
     "text": [
      "0.005325500000004979\n"
     ]
    }
   ],
   "source": [
    "start = timeit.default_timer()\n",
    "fr1000000[fr1000000['Global_active_power'] > 5]\n",
    "e1=timeit.default_timer() - start\n",
    "print(e1)"
   ]
  },
  {
   "cell_type": "code",
   "execution_count": 15,
   "metadata": {},
   "outputs": [],
   "source": [
    "fr2049280 = frame[frame.index <= 2049280]"
   ]
  },
  {
   "cell_type": "code",
   "execution_count": 16,
   "metadata": {},
   "outputs": [
    {
     "name": "stdout",
     "output_type": "stream",
     "text": [
      "0.011353500000005567\n"
     ]
    }
   ],
   "source": [
    "start = timeit.default_timer()\n",
    "fr2049280[fr2049280['Global_active_power'] > 5]\n",
    "z1=timeit.default_timer() - start\n",
    "print(z1)"
   ]
  },
  {
   "cell_type": "code",
   "execution_count": 17,
   "metadata": {},
   "outputs": [],
   "source": [
    "import numpy as np"
   ]
  },
  {
   "cell_type": "code",
   "execution_count": 18,
   "metadata": {},
   "outputs": [],
   "source": [
    "m_els = np.genfromtxt('Data.csv', dtype={'names':('Date', 'Time', 'Global_active_power', 'Global_reactive_power', 'Voltage', 'Global_intensity', 'Sub_metering_1', 'Sub_metering_2', 'Sub_metering_3'), 'formats':('U8', 'U8', 'f8', 'f8', 'f8', 'f8', 'f8', 'f8', 'f8')}, delimiter=';')"
   ]
  },
  {
   "cell_type": "code",
   "execution_count": 19,
   "metadata": {},
   "outputs": [],
   "source": [
    "m_els = np.delete(m_els, (0), axis=0) "
   ]
  },
  {
   "cell_type": "code",
   "execution_count": 20,
   "metadata": {},
   "outputs": [],
   "source": [
    "mels100 = m_els[0:100]"
   ]
  },
  {
   "cell_type": "code",
   "execution_count": 21,
   "metadata": {},
   "outputs": [
    {
     "name": "stdout",
     "output_type": "stream",
     "text": [
      "0.0003774999999990314\n"
     ]
    }
   ],
   "source": [
    "start = timeit.default_timer()\n",
    "mels100[mels100 ['Global_active_power'] > 5]\n",
    "a = timeit.default_timer() - start\n",
    "print(a)"
   ]
  },
  {
   "cell_type": "code",
   "execution_count": 22,
   "metadata": {},
   "outputs": [],
   "source": [
    "mels1000 = m_els[0:1000]"
   ]
  },
  {
   "cell_type": "code",
   "execution_count": 23,
   "metadata": {},
   "outputs": [
    {
     "name": "stdout",
     "output_type": "stream",
     "text": [
      "0.00032480000000134623\n"
     ]
    }
   ],
   "source": [
    "start = timeit.default_timer()\n",
    "mels1000[mels1000 ['Global_active_power'] > 5]\n",
    "b = timeit.default_timer() - start\n",
    "print(b)"
   ]
  },
  {
   "cell_type": "code",
   "execution_count": 24,
   "metadata": {},
   "outputs": [],
   "source": [
    "mels10000 = m_els[0:10000]"
   ]
  },
  {
   "cell_type": "code",
   "execution_count": 25,
   "metadata": {},
   "outputs": [
    {
     "name": "stdout",
     "output_type": "stream",
     "text": [
      "0.0006048999999990201\n"
     ]
    }
   ],
   "source": [
    "start = timeit.default_timer()\n",
    "mels10000[mels10000 ['Global_active_power'] > 5]\n",
    "c = timeit.default_timer() - start\n",
    "print(c)"
   ]
  },
  {
   "cell_type": "code",
   "execution_count": 26,
   "metadata": {},
   "outputs": [],
   "source": [
    "mels100000 = m_els[0:100000]"
   ]
  },
  {
   "cell_type": "code",
   "execution_count": 27,
   "metadata": {},
   "outputs": [
    {
     "name": "stdout",
     "output_type": "stream",
     "text": [
      "0.0019116999999937434\n"
     ]
    }
   ],
   "source": [
    "start = timeit.default_timer()\n",
    "mels100000[mels100000 ['Global_active_power'] > 5]\n",
    "d = timeit.default_timer() - start\n",
    "print(d)"
   ]
  },
  {
   "cell_type": "code",
   "execution_count": 28,
   "metadata": {},
   "outputs": [],
   "source": [
    "mels1000000 = m_els[0:1000000]"
   ]
  },
  {
   "cell_type": "code",
   "execution_count": 29,
   "metadata": {},
   "outputs": [
    {
     "name": "stdout",
     "output_type": "stream",
     "text": [
      "0.019249700000003145\n"
     ]
    }
   ],
   "source": [
    "start = timeit.default_timer()\n",
    "mels1000000[mels1000000 ['Global_active_power'] > 5]\n",
    "e = timeit.default_timer() - start\n",
    "print(e)"
   ]
  },
  {
   "cell_type": "code",
   "execution_count": 30,
   "metadata": {},
   "outputs": [],
   "source": [
    "mels2049280 = m_els[0:2049280]"
   ]
  },
  {
   "cell_type": "code",
   "execution_count": 31,
   "metadata": {},
   "outputs": [
    {
     "name": "stdout",
     "output_type": "stream",
     "text": [
      "0.03355909999999085\n"
     ]
    }
   ],
   "source": [
    "start = timeit.default_timer()\n",
    "mels2049280[mels2049280['Global_active_power'] > 5]\n",
    "z=timeit.default_timer() - start\n",
    "print(z)"
   ]
  },
  {
   "cell_type": "code",
   "execution_count": 32,
   "metadata": {},
   "outputs": [
    {
     "data": {
      "text/plain": [
       "[<matplotlib.lines.Line2D at 0x1de8b4ebe08>]"
      ]
     },
     "execution_count": 32,
     "metadata": {},
     "output_type": "execute_result"
    },
    {
     "data": {
      "image/png": "[encoded data removed]",
      "text/plain": [
       "<Figure size 432x288 with 1 Axes>"
      ]
     },
     "metadata": {
      "needs_background": "light"
     },
     "output_type": "display_data"
    }
   ],
   "source": [
    "x = [100,1000, 10000,100000,1000000,2049280]\n",
    "y = [a, b, c, d, e,z]\n",
    "\n",
    "x1 = [100,1000, 10000,100000,1000000,2049280]\n",
    "y1 = [a1, b1, c1, d1, e1,z1]\n",
    "\n",
    "plt.plot(x1,y1,color=\"blue\")\n",
    "plt.plot(x,y,color=\"red\")"
   ]
  },
  {
   "cell_type": "code",
   "execution_count": null,
   "metadata": {},
   "outputs": [],
   "source": []
  },
  {
   "cell_type": "code",
   "execution_count": null,
   "metadata": {},
   "outputs": [],
   "source": []
  }
 ],
 "metadata": {
  "kernelspec": {
   "display_name": "Python 3",
   "language": "python",
   "name": "python3"
  },
  "language_info": {
   "codemirror_mode": {
    "name": "ipython",
    "version": 3
   },
   "file_extension": ".py",
   "mimetype": "text/x-python",
   "name": "python",
   "nbconvert_exporter": "python",
   "pygments_lexer": "ipython3",
   "version": "3.7.4"
  }
 },
 "nbformat": 4,
 "nbformat_minor": 2
}
