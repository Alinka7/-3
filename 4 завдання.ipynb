{
 "cells": [
  {
   "cell_type": "code",
   "execution_count": 30,
   "metadata": {},
   "outputs": [],
   "source": [
    "import pandas as pd\n",
    "import numpy as np\n",
    "import timeit\n",
    "import matplotlib.pyplot as plt\n",
    "import random\n",
    "%matplotlib inline \n",
    "name='Data.csv'\n",
    "frame = pd.DataFrame() \n",
    "frame = pd.read_csv(name, sep='[; ]+', engine='python') \n"
   ]
  },
  {
   "cell_type": "code",
   "execution_count": 31,
   "metadata": {},
   "outputs": [],
   "source": [
    "frame = pd.read_csv(name, sep='[; ]+', engine='python') \n"
   ]
  },
  {
   "cell_type": "code",
   "execution_count": 32,
   "metadata": {},
   "outputs": [],
   "source": [
    "fr = frame.sample(n = 500000)"
   ]
  },
  {
   "cell_type": "code",
   "execution_count": 33,
   "metadata": {},
   "outputs": [],
   "source": [
    "fr50 = fr[fr.index <= 50]"
   ]
  },
  {
   "cell_type": "code",
   "execution_count": 34,
   "metadata": {},
   "outputs": [
    {
     "name": "stdout",
     "output_type": "stream",
     "text": [
      "0.0006591999999727705\n"
     ]
    }
   ],
   "source": [
    "start = timeit.default_timer()\n",
    "fr50['Sub_metering_1'].mean()\n",
    "fr50['Sub_metering_2'].mean()\n",
    "fr50['Sub_metering_3'].mean()\n",
    "a=timeit.default_timer() - start\n",
    "print(a)"
   ]
  },
  {
   "cell_type": "code",
   "execution_count": 35,
   "metadata": {},
   "outputs": [],
   "source": [
    "fr500 = fr[fr.index <= 500]"
   ]
  },
  {
   "cell_type": "code",
   "execution_count": 36,
   "metadata": {},
   "outputs": [
    {
     "name": "stdout",
     "output_type": "stream",
     "text": [
      "0.0007367999999132735\n"
     ]
    }
   ],
   "source": [
    "start = timeit.default_timer()\n",
    "fr500['Sub_metering_1'].mean()\n",
    "fr500['Sub_metering_2'].mean()\n",
    "fr500['Sub_metering_3'].mean()\n",
    "b=timeit.default_timer() - start\n",
    "print(b)"
   ]
  },
  {
   "cell_type": "code",
   "execution_count": 37,
   "metadata": {},
   "outputs": [],
   "source": [
    "fr5000 = fr[fr.index <= 5000]"
   ]
  },
  {
   "cell_type": "code",
   "execution_count": 38,
   "metadata": {},
   "outputs": [
    {
     "name": "stdout",
     "output_type": "stream",
     "text": [
      "0.0013725999999678606\n"
     ]
    }
   ],
   "source": [
    "start = timeit.default_timer()\n",
    "fr5000['Sub_metering_1'].mean()\n",
    "fr5000['Sub_metering_2'].mean()\n",
    "fr5000['Sub_metering_3'].mean()\n",
    "c=timeit.default_timer() - start\n",
    "print(c)"
   ]
  },
  {
   "cell_type": "code",
   "execution_count": 39,
   "metadata": {},
   "outputs": [],
   "source": [
    "fr50000 = fr[fr.index <= 50000]"
   ]
  },
  {
   "cell_type": "code",
   "execution_count": 40,
   "metadata": {},
   "outputs": [
    {
     "name": "stdout",
     "output_type": "stream",
     "text": [
      "0.0007979999998042331\n"
     ]
    }
   ],
   "source": [
    "start = timeit.default_timer()\n",
    "fr50000['Sub_metering_1'].mean()\n",
    "fr50000['Sub_metering_2'].mean()\n",
    "fr50000['Sub_metering_3'].mean()\n",
    "d=timeit.default_timer() - start\n",
    "print(d)"
   ]
  },
  {
   "cell_type": "code",
   "execution_count": 41,
   "metadata": {},
   "outputs": [],
   "source": [
    "fr500000 = frame[frame.index <= 500000]"
   ]
  },
  {
   "cell_type": "code",
   "execution_count": 42,
   "metadata": {},
   "outputs": [
    {
     "name": "stdout",
     "output_type": "stream",
     "text": [
      "0.002557600000045568\n"
     ]
    }
   ],
   "source": [
    "start = timeit.default_timer()\n",
    "fr500000['Sub_metering_1'].mean()\n",
    "fr500000['Sub_metering_2'].mean()\n",
    "fr500000['Sub_metering_3'].mean()\n",
    "e=timeit.default_timer() - start\n",
    "print(e)"
   ]
  },
  {
   "cell_type": "code",
   "execution_count": null,
   "metadata": {},
   "outputs": [],
   "source": []
  },
  {
   "cell_type": "code",
   "execution_count": 43,
   "metadata": {},
   "outputs": [],
   "source": [
    "m_els = np.genfromtxt('Data.csv', dtype={'names':('Date', 'Time', 'Global_active_power', 'Global_reactive_power', 'Voltage', 'Global_intensity', 'Sub_metering_1', 'Sub_metering_2', 'Sub_metering_3'), 'formats':('U8', 'U8', 'f8', 'f8', 'f8', 'f8', 'f8', 'f8', 'f8')}, delimiter=';')"
   ]
  },
  {
   "cell_type": "code",
   "execution_count": 44,
   "metadata": {},
   "outputs": [],
   "source": [
    "m_els = np.delete(m_els, (0), axis=0) "
   ]
  },
  {
   "cell_type": "code",
   "execution_count": 45,
   "metadata": {},
   "outputs": [],
   "source": [
    "m = random.choices( m_els, k=5000)"
   ]
  },
  {
   "cell_type": "code",
   "execution_count": 46,
   "metadata": {},
   "outputs": [],
   "source": [
    "mels = np.array(m)"
   ]
  },
  {
   "cell_type": "code",
   "execution_count": 47,
   "metadata": {},
   "outputs": [],
   "source": [
    "mels50 = mels[0:50]"
   ]
  },
  {
   "cell_type": "code",
   "execution_count": 48,
   "metadata": {},
   "outputs": [
    {
     "name": "stdout",
     "output_type": "stream",
     "text": [
      "0.00022899999999026477\n"
     ]
    }
   ],
   "source": [
    "start = timeit.default_timer()\n",
    "np.mean(mels50['Sub_metering_1'])\n",
    "np.mean(mels50['Sub_metering_2'])\n",
    "np.mean(mels50['Sub_metering_3'])\n",
    "a1=timeit.default_timer() - start\n",
    "print(a1)"
   ]
  },
  {
   "cell_type": "code",
   "execution_count": 49,
   "metadata": {},
   "outputs": [],
   "source": [
    "mels500 = mels[0:500]"
   ]
  },
  {
   "cell_type": "code",
   "execution_count": 50,
   "metadata": {},
   "outputs": [
    {
     "name": "stdout",
     "output_type": "stream",
     "text": [
      "0.00023770000007061753\n"
     ]
    }
   ],
   "source": [
    "start = timeit.default_timer()\n",
    "np.mean(mels500['Sub_metering_1'])\n",
    "np.mean(mels500['Sub_metering_2'])\n",
    "np.mean(mels500['Sub_metering_3'])\n",
    "b1=timeit.default_timer() - start\n",
    "print(b1)"
   ]
  },
  {
   "cell_type": "code",
   "execution_count": 51,
   "metadata": {},
   "outputs": [],
   "source": [
    "mels5000 = mels[0:5000]"
   ]
  },
  {
   "cell_type": "code",
   "execution_count": 52,
   "metadata": {},
   "outputs": [
    {
     "name": "stdout",
     "output_type": "stream",
     "text": [
      "0.0006424999999126157\n"
     ]
    }
   ],
   "source": [
    "start = timeit.default_timer()\n",
    "np.mean(mels5000['Sub_metering_1'])\n",
    "np.mean(mels5000['Sub_metering_2'])\n",
    "np.mean(mels5000['Sub_metering_3'])\n",
    "c1=timeit.default_timer() - start\n",
    "print(c1)"
   ]
  },
  {
   "cell_type": "code",
   "execution_count": 53,
   "metadata": {},
   "outputs": [],
   "source": [
    "mels50000 = mels[0:50000]"
   ]
  },
  {
   "cell_type": "code",
   "execution_count": 54,
   "metadata": {},
   "outputs": [
    {
     "name": "stdout",
     "output_type": "stream",
     "text": [
      "0.0004382000001896813\n"
     ]
    }
   ],
   "source": [
    "start = timeit.default_timer()\n",
    "np.mean(mels50000['Sub_metering_1'])\n",
    "np.mean(mels50000['Sub_metering_2'])\n",
    "np.mean(mels50000['Sub_metering_3'])\n",
    "d1=timeit.default_timer() - start\n",
    "print(d1)"
   ]
  },
  {
   "cell_type": "code",
   "execution_count": 55,
   "metadata": {},
   "outputs": [],
   "source": [
    "mels500000 = mels[0:500000]"
   ]
  },
  {
   "cell_type": "code",
   "execution_count": 56,
   "metadata": {},
   "outputs": [
    {
     "name": "stdout",
     "output_type": "stream",
     "text": [
      "0.0005820999999741616\n"
     ]
    }
   ],
   "source": [
    "start = timeit.default_timer()\n",
    "np.mean(mels500000['Sub_metering_1'])\n",
    "np.mean(mels500000['Sub_metering_2'])\n",
    "np.mean(mels500000['Sub_metering_3'])\n",
    "e1=timeit.default_timer() - start\n",
    "print(e1)"
   ]
  },
  {
   "cell_type": "code",
   "execution_count": 58,
   "metadata": {},
   "outputs": [
    {
     "data": {
      "text/plain": [
       "[<matplotlib.lines.Line2D at 0x2556f146948>]"
      ]
     },
     "execution_count": 58,
     "metadata": {},
     "output_type": "execute_result"
    },
    {
     "data": {
      "image/png": "[encoded data removed]",
      "text/plain": [
       "<Figure size 432x288 with 1 Axes>"
      ]
     },
     "metadata": {
      "needs_background": "light"
     },
     "output_type": "display_data"
    }
   ],
   "source": [
    "x = [50,500, 5000,50000,500000]\n",
    "y = [a, b, c, d, e]\n",
    "\n",
    "x1 = [50,500, 5000,50000,500000]\n",
    "y1 = [a1, b1, c1, d1, e1]\n",
    "\n",
    "plt.plot(x1,y1,color=\"blue\")\n",
    "plt.plot(x,y,color=\"red\")"
   ]
  },
  {
   "cell_type": "code",
   "execution_count": null,
   "metadata": {},
   "outputs": [],
   "source": []
  },
  {
   "cell_type": "code",
   "execution_count": null,
   "metadata": {},
   "outputs": [],
   "source": []
  }
 ],
 "metadata": {
  "kernelspec": {
   "display_name": "Python 3",
   "language": "python",
   "name": "python3"
  },
  "language_info": {
   "codemirror_mode": {
    "name": "ipython",
    "version": 3
   },
   "file_extension": ".py",
   "mimetype": "text/x-python",
   "name": "python",
   "nbconvert_exporter": "python",
   "pygments_lexer": "ipython3",
   "version": "3.7.4"
  }
 },
 "nbformat": 4,
 "nbformat_minor": 2
}
