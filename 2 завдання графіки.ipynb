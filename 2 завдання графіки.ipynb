{
 "cells": [
  {
   "cell_type": "code",
   "execution_count": 6,
   "metadata": {},
   "outputs": [],
   "source": [
    "import pandas as pd\n",
    "import numpy as np\n",
    "import timeit\n",
    "import matplotlib.pyplot as plt\n",
    "%matplotlib inline \n",
    "name='Data.csv'\n",
    "frame = pd.DataFrame() \n",
    "frame = pd.read_csv(name, sep='[; ]+', engine='python') \n"
   ]
  },
  {
   "cell_type": "code",
   "execution_count": 7,
   "metadata": {},
   "outputs": [],
   "source": [
    "frame = pd.read_csv(name, sep='[; ]+', engine='python') \n"
   ]
  },
  {
   "cell_type": "code",
   "execution_count": 8,
   "metadata": {},
   "outputs": [],
   "source": [
    "fr100 = frame[frame.index <= 100]"
   ]
  },
  {
   "cell_type": "code",
   "execution_count": 9,
   "metadata": {},
   "outputs": [
    {
     "name": "stdout",
     "output_type": "stream",
     "text": [
      "0.0011460000000056425\n"
     ]
    }
   ],
   "source": [
    "start = timeit.default_timer()\n",
    "fr100[fr100['Voltage'] > 235]\n",
    "a1=timeit.default_timer() - start\n",
    "print(a1)"
   ]
  },
  {
   "cell_type": "code",
   "execution_count": 10,
   "metadata": {},
   "outputs": [],
   "source": [
    "fr1000 = frame[frame.index <= 1000]"
   ]
  },
  {
   "cell_type": "code",
   "execution_count": 11,
   "metadata": {},
   "outputs": [
    {
     "name": "stdout",
     "output_type": "stream",
     "text": [
      "0.0009190999999759697\n"
     ]
    }
   ],
   "source": [
    "start = timeit.default_timer()\n",
    "fr1000[fr1000['Voltage'] > 235]\n",
    "b1 = timeit.default_timer() - start\n",
    "print(b1)"
   ]
  },
  {
   "cell_type": "code",
   "execution_count": 12,
   "metadata": {},
   "outputs": [],
   "source": [
    "fr10000 = frame[frame.index <= 10000]"
   ]
  },
  {
   "cell_type": "code",
   "execution_count": 13,
   "metadata": {},
   "outputs": [
    {
     "name": "stdout",
     "output_type": "stream",
     "text": [
      "0.001541599999995924\n"
     ]
    }
   ],
   "source": [
    "start = timeit.default_timer()\n",
    "fr10000[fr10000['Voltage'] > 235]\n",
    "c1=timeit.default_timer() - start\n",
    "print(c1)"
   ]
  },
  {
   "cell_type": "code",
   "execution_count": 14,
   "metadata": {},
   "outputs": [],
   "source": [
    "fr100000 = frame[frame.index <= 100000]"
   ]
  },
  {
   "cell_type": "code",
   "execution_count": 15,
   "metadata": {},
   "outputs": [
    {
     "name": "stdout",
     "output_type": "stream",
     "text": [
      "0.0071677999999906206\n"
     ]
    }
   ],
   "source": [
    "start = timeit.default_timer()\n",
    "fr100000[fr100000['Voltage'] > 235]\n",
    "d1=timeit.default_timer() - start\n",
    "print(d1)"
   ]
  },
  {
   "cell_type": "code",
   "execution_count": 16,
   "metadata": {},
   "outputs": [],
   "source": [
    "fr1000000 = frame[frame.index <= 1000000]"
   ]
  },
  {
   "cell_type": "code",
   "execution_count": 19,
   "metadata": {},
   "outputs": [
    {
     "name": "stdout",
     "output_type": "stream",
     "text": [
      "0.0611009000000422\n"
     ]
    }
   ],
   "source": [
    "start = timeit.default_timer()\n",
    "fr1000000[fr1000000['Voltage'] > 235]\n",
    "e1 = timeit.default_timer() - start\n",
    "print(e1)"
   ]
  },
  {
   "cell_type": "code",
   "execution_count": 20,
   "metadata": {},
   "outputs": [],
   "source": [
    "fr2049280 = frame[frame.index <= 2049280]"
   ]
  },
  {
   "cell_type": "code",
   "execution_count": 21,
   "metadata": {},
   "outputs": [
    {
     "name": "stdout",
     "output_type": "stream",
     "text": [
      "0.12026790000004439\n"
     ]
    }
   ],
   "source": [
    "start = timeit.default_timer()\n",
    "fr2049280[fr2049280['Voltage'] > 235]\n",
    "z1=timeit.default_timer() - start\n",
    "print(z1)"
   ]
  },
  {
   "cell_type": "code",
   "execution_count": null,
   "metadata": {},
   "outputs": [],
   "source": []
  },
  {
   "cell_type": "code",
   "execution_count": 22,
   "metadata": {},
   "outputs": [],
   "source": [
    "m_els = np.genfromtxt('Data.csv', dtype={'names':('Date', 'Time', 'Global_active_power', 'Global_reactive_power', 'Voltage', 'Global_intensity', 'Sub_metering_1', 'Sub_metering_2', 'Sub_metering_3'), 'formats':('U8', 'U8', 'f8', 'f8', 'f8', 'f8', 'f8', 'f8', 'f8')}, delimiter=';')"
   ]
  },
  {
   "cell_type": "code",
   "execution_count": 23,
   "metadata": {},
   "outputs": [],
   "source": [
    "m_els = np.delete(m_els, (0), axis=0) "
   ]
  },
  {
   "cell_type": "code",
   "execution_count": 24,
   "metadata": {},
   "outputs": [],
   "source": [
    "mels100 = m_els[0:100]"
   ]
  },
  {
   "cell_type": "code",
   "execution_count": 41,
   "metadata": {},
   "outputs": [
    {
     "name": "stdout",
     "output_type": "stream",
     "text": [
      "0.0027893999999832886\n"
     ]
    }
   ],
   "source": [
    "start = timeit.default_timer()\n",
    "mels100[mels100 ['Voltage'] > 235]\n",
    "a = timeit.default_timer() - start\n",
    "print(a)"
   ]
  },
  {
   "cell_type": "code",
   "execution_count": 26,
   "metadata": {},
   "outputs": [],
   "source": [
    "mels1000 = m_els[0:1000]"
   ]
  },
  {
   "cell_type": "code",
   "execution_count": 27,
   "metadata": {},
   "outputs": [
    {
     "name": "stdout",
     "output_type": "stream",
     "text": [
      "0.00033089999999447173\n"
     ]
    }
   ],
   "source": [
    "start = timeit.default_timer()\n",
    "mels1000[mels1000 ['Voltage'] > 235]\n",
    "b = timeit.default_timer() - start\n",
    "print(b)"
   ]
  },
  {
   "cell_type": "code",
   "execution_count": 28,
   "metadata": {},
   "outputs": [],
   "source": [
    "mels10000 = m_els[0:10000]"
   ]
  },
  {
   "cell_type": "code",
   "execution_count": 29,
   "metadata": {},
   "outputs": [
    {
     "name": "stdout",
     "output_type": "stream",
     "text": [
      "0.0009615999999823543\n"
     ]
    }
   ],
   "source": [
    "start = timeit.default_timer()\n",
    "mels10000[mels10000 ['Voltage'] > 235]\n",
    "c = timeit.default_timer() - start\n",
    "print(c)"
   ]
  },
  {
   "cell_type": "code",
   "execution_count": 30,
   "metadata": {},
   "outputs": [],
   "source": [
    "mels100000 = m_els[0:100000]"
   ]
  },
  {
   "cell_type": "code",
   "execution_count": 31,
   "metadata": {},
   "outputs": [
    {
     "name": "stdout",
     "output_type": "stream",
     "text": [
      "0.007463099999995393\n"
     ]
    }
   ],
   "source": [
    "start = timeit.default_timer()\n",
    "mels100000[mels100000 ['Voltage'] > 235]\n",
    "d = timeit.default_timer() - start\n",
    "print(d)"
   ]
  },
  {
   "cell_type": "code",
   "execution_count": 32,
   "metadata": {},
   "outputs": [],
   "source": [
    "mels1000000 = m_els[0:1000000]"
   ]
  },
  {
   "cell_type": "code",
   "execution_count": 37,
   "metadata": {},
   "outputs": [
    {
     "name": "stdout",
     "output_type": "stream",
     "text": [
      "0.0680562000000009\n"
     ]
    }
   ],
   "source": [
    "start = timeit.default_timer()\n",
    "mels1000000[mels1000000 ['Voltage'] > 235]\n",
    "e = timeit.default_timer() - start\n",
    "print(e)"
   ]
  },
  {
   "cell_type": "code",
   "execution_count": 34,
   "metadata": {},
   "outputs": [],
   "source": [
    "mels2049280 = m_els[0:2049280]"
   ]
  },
  {
   "cell_type": "code",
   "execution_count": 35,
   "metadata": {},
   "outputs": [
    {
     "name": "stdout",
     "output_type": "stream",
     "text": [
      "0.12732229999994615\n"
     ]
    }
   ],
   "source": [
    "start = timeit.default_timer()\n",
    "mels2049280[mels2049280['Voltage'] > 235]\n",
    "z=timeit.default_timer() - start\n",
    "print(z)"
   ]
  },
  {
   "cell_type": "code",
   "execution_count": 38,
   "metadata": {},
   "outputs": [
    {
     "data": {
      "text/plain": [
       "[<matplotlib.lines.Line2D at 0x1d5e83f1dc8>]"
      ]
     },
     "execution_count": 38,
     "metadata": {},
     "output_type": "execute_result"
    },
    {
     "data": {
      "image/png": "[encoded data removed]",
      "text/plain": [
       "<Figure size 432x288 with 1 Axes>"
      ]
     },
     "metadata": {
      "needs_background": "light"
     },
     "output_type": "display_data"
    }
   ],
   "source": [
    "x = [100,1000, 10000,100000,1000000,2049280]\n",
    "y = [a, b, c, d, e,z]\n",
    "\n",
    "x1 = [100,1000, 10000,100000,1000000,2049280]\n",
    "y1 = [a1, b1, c1, d1, e1,z1]\n",
    "\n",
    "plt.plot(x1,y1,color=\"blue\")\n",
    "plt.plot(x,y,color=\"red\")"
   ]
  },
  {
   "cell_type": "code",
   "execution_count": null,
   "metadata": {},
   "outputs": [],
   "source": []
  }
 ],
 "metadata": {
  "kernelspec": {
   "display_name": "Python 3",
   "language": "python",
   "name": "python3"
  },
  "language_info": {
   "codemirror_mode": {
    "name": "ipython",
    "version": 3
   },
   "file_extension": ".py",
   "mimetype": "text/x-python",
   "name": "python",
   "nbconvert_exporter": "python",
   "pygments_lexer": "ipython3",
   "version": "3.7.4"
  }
 },
 "nbformat": 4,
 "nbformat_minor": 2
}
