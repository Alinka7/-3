{
 "cells": [
  {
   "cell_type": "code",
   "execution_count": 321,
   "metadata": {},
   "outputs": [],
   "source": [
    "setup = '''import pandas as pd\n",
    "df = pd.read_csv('Data.csv', sep='[; ]+', engine='python')'''"
   ]
  },
  {
   "cell_type": "code",
   "execution_count": 322,
   "metadata": {},
   "outputs": [],
   "source": [
    "import timeit\n",
    "import matplotlib.pyplot as plt\n"
   ]
  },
  {
   "cell_type": "code",
   "execution_count": 323,
   "metadata": {},
   "outputs": [],
   "source": [
    "setup0 = '''import numpy as np\n",
    "data = np.genfromtxt('Data.csv', dtype={'names':('Date', 'Time', 'Global_active_power', 'Global_reactive_power', 'Voltage', 'Global_intensity', 'Sub_metering_1', 'Sub_metering_2', 'Sub_metering_3'), 'formats':('U8', 'U8', 'f8', 'f8', 'f8', 'f8', 'f8', 'f8', 'f8')}, delimiter=';')\n",
    "data = np.delete(data, (0), axis=0)'''"
   ]
  },
  {
   "cell_type": "code",
   "execution_count": 324,
   "metadata": {},
   "outputs": [],
   "source": [
    "stmt = 'df[(df.index <=100) & (df.Global_active_power > 5)]'\n",
    "y1 = timeit.timeit(stmt = stmt, setup = setup, number = 2)"
   ]
  },
  {
   "cell_type": "code",
   "execution_count": 325,
   "metadata": {},
   "outputs": [],
   "source": [
    "stmt2 = 'df[(df.index <=1000) & (df.Global_active_power > 5)]'\n",
    "y2 = timeit.timeit(stmt = stmt2, setup = setup, number = 2)"
   ]
  },
  {
   "cell_type": "code",
   "execution_count": 326,
   "metadata": {},
   "outputs": [],
   "source": [
    "stmt3 = 'df[(df.index <=10000) & (df.Global_active_power > 5)]'\n",
    "y3 = timeit.timeit(stmt = stmt3, setup = setup, number = 2)"
   ]
  },
  {
   "cell_type": "code",
   "execution_count": 327,
   "metadata": {},
   "outputs": [],
   "source": [
    "stmt4 = 'df[(df.index <=100000) & (df.Global_active_power > 5)]'\n",
    "y4 = timeit.timeit(stmt = stmt4, setup = setup, number = 2)"
   ]
  },
  {
   "cell_type": "code",
   "execution_count": 328,
   "metadata": {},
   "outputs": [],
   "source": [
    "stmt5 = 'df[(df.index <=1000000) & (df.Global_active_power > 5)]'\n",
    "y5 = timeit.timeit(stmt = stmt5, setup = setup, number = 2)"
   ]
  },
  {
   "cell_type": "code",
   "execution_count": 329,
   "metadata": {},
   "outputs": [],
   "source": [
    "stmt6 = 'df[(df.index <= 2000000) & (df.Global_active_power > 5)]'\n",
    "y6 = timeit.timeit(stmt = stmt6, setup = setup, number = 2)"
   ]
  },
  {
   "cell_type": "code",
   "execution_count": null,
   "metadata": {},
   "outputs": [],
   "source": []
  },
  {
   "cell_type": "code",
   "execution_count": 330,
   "metadata": {},
   "outputs": [],
   "source": [
    "stmt01 = '''data = data[0:100]\n",
    "data[data['Global_active_power'] > 5]'''\n",
    "y01 = timeit.timeit(stmt = stmt01, setup = setup0, number = 2)"
   ]
  },
  {
   "cell_type": "code",
   "execution_count": 331,
   "metadata": {},
   "outputs": [],
   "source": [
    "stmt02 = '''data = data[0:1000]\n",
    "data[data['Global_active_power'] > 5]'''\n",
    "y02 = timeit.timeit(stmt = stmt02, setup = setup0, number = 2)"
   ]
  },
  {
   "cell_type": "code",
   "execution_count": 332,
   "metadata": {},
   "outputs": [],
   "source": [
    "stmt03 = '''data = data[0:10000]\n",
    "data[data['Global_active_power'] > 5]'''\n",
    "y03 = timeit.timeit(stmt = stmt03, setup = setup0, number = 2)"
   ]
  },
  {
   "cell_type": "code",
   "execution_count": 333,
   "metadata": {},
   "outputs": [],
   "source": [
    "stmt04 = '''data = data[0:100000]\n",
    "data[data['Global_active_power'] > 5]'''\n",
    "y04 = timeit.timeit(stmt = stmt04, setup = setup0, number = 2)"
   ]
  },
  {
   "cell_type": "code",
   "execution_count": 334,
   "metadata": {},
   "outputs": [],
   "source": [
    "stmt05 = '''data = data[0:1000000]\n",
    "data[data['Global_active_power'] > 5]'''\n",
    "y05 = timeit.timeit(stmt = stmt05, setup = setup0, number = 2)"
   ]
  },
  {
   "cell_type": "code",
   "execution_count": 335,
   "metadata": {},
   "outputs": [],
   "source": [
    "stmt06 = '''data = data[0:2000000]\n",
    "data[data['Global_active_power'] > 5]'''\n",
    "y06 = timeit.timeit(stmt = stmt06, setup = setup0, number = 2)"
   ]
  },
  {
   "cell_type": "code",
   "execution_count": 337,
   "metadata": {},
   "outputs": [
    {
     "data": {
      "text/plain": [
       "[<matplotlib.lines.Line2D at 0x213e7460708>]"
      ]
     },
     "execution_count": 337,
     "metadata": {},
     "output_type": "execute_result"
    },
    {
     "data": {
      "image/png": "[encoded data removed]",
      "text/plain": [
       "<Figure size 432x288 with 1 Axes>"
      ]
     },
     "metadata": {
      "needs_background": "light"
     },
     "output_type": "display_data"
    }
   ],
   "source": [
    "x = [100, 1000, 10000,100000,1000000, 2000000]\n",
    "y = [y1, y2, y3, y4, y5, y6]\n",
    "y_1 = [y01, y02, y03, y04, y05, y06]\n",
    "plt.plot(x, y, color = 'red')\n",
    "plt.plot(x, y_1, color = 'blue')"
   ]
  },
  {
   "cell_type": "code",
   "execution_count": null,
   "metadata": {},
   "outputs": [],
   "source": []
  },
  {
   "cell_type": "code",
   "execution_count": 398,
   "metadata": {},
   "outputs": [],
   "source": [
    "stmt2 = 'df[(df.index <=100) & (df.Voltage > 235)]'\n",
    "y1 = timeit.timeit(stmt = stmt2, setup = setup, number = 2)"
   ]
  },
  {
   "cell_type": "code",
   "execution_count": 399,
   "metadata": {},
   "outputs": [],
   "source": [
    "stmt2 = 'df[(df.index <=1000) & (df.Voltage > 235)]'\n",
    "y2 = timeit.timeit(stmt = stmt2, setup = setup, number = 2)"
   ]
  },
  {
   "cell_type": "code",
   "execution_count": 400,
   "metadata": {},
   "outputs": [],
   "source": [
    "stmt3 = 'df[(df.index <=10000) & (df.Voltage > 235)]'\n",
    "y3 = timeit.timeit(stmt = stmt3, setup = setup, number = 2)"
   ]
  },
  {
   "cell_type": "code",
   "execution_count": 401,
   "metadata": {},
   "outputs": [],
   "source": [
    "stmt4 = 'df[(df.index <=100000) & (df.Voltage > 235)]'\n",
    "y4 = timeit.timeit(stmt = stmt4, setup = setup, number = 2)"
   ]
  },
  {
   "cell_type": "code",
   "execution_count": 402,
   "metadata": {},
   "outputs": [],
   "source": [
    "stmt5 = 'df[(df.index <=1000000) & (df.Voltage > 235)]'\n",
    "y5 = timeit.timeit(stmt = stmt5, setup = setup, number = 2)"
   ]
  },
  {
   "cell_type": "code",
   "execution_count": 403,
   "metadata": {},
   "outputs": [],
   "source": [
    "stmt6 = 'df[(df.index <=2000000) & (df.Voltage > 235)]'\n",
    "y6 = timeit.timeit(stmt = stmt6, setup = setup, number = 2)"
   ]
  },
  {
   "cell_type": "code",
   "execution_count": 404,
   "metadata": {},
   "outputs": [],
   "source": [
    "stmt01 = '''data = data[0:100]\n",
    "data[data['Global_active_power'] > 5]'''\n",
    "y01 = timeit.timeit(stmt = stmt01, setup = setup0, number = 2)"
   ]
  },
  {
   "cell_type": "code",
   "execution_count": 405,
   "metadata": {},
   "outputs": [],
   "source": [
    "stmt02 = '''data = data[0:1000]\n",
    "data[data['Global_active_power'] > 5]'''\n",
    "y02 = timeit.timeit(stmt = stmt02, setup = setup0, number = 2)"
   ]
  },
  {
   "cell_type": "code",
   "execution_count": 406,
   "metadata": {},
   "outputs": [],
   "source": [
    "stmt03 = '''data = data[0:10000]\n",
    "data[data['Global_active_power'] > 5]'''\n",
    "y03 = timeit.timeit(stmt = stmt03, setup = setup0, number = 2)"
   ]
  },
  {
   "cell_type": "code",
   "execution_count": 407,
   "metadata": {},
   "outputs": [],
   "source": [
    "stmt04 = '''data = data[0:100000]\n",
    "data[data['Global_active_power'] > 5]'''\n",
    "y04 = timeit.timeit(stmt = stmt04, setup = setup0, number = 2)"
   ]
  },
  {
   "cell_type": "code",
   "execution_count": 408,
   "metadata": {},
   "outputs": [],
   "source": [
    "stmt05 = '''data = data[0:1000000]\n",
    "data[data['Global_active_power'] > 5]'''\n",
    "y05 = timeit.timeit(stmt = stmt05, setup = setup0, number = 2)"
   ]
  },
  {
   "cell_type": "code",
   "execution_count": 409,
   "metadata": {},
   "outputs": [],
   "source": [
    "stmt06 = '''data = data[0:2000000]\n",
    "data[data['Global_active_power'] > 5]'''\n",
    "y06 = timeit.timeit(stmt = stmt06, setup = setup0, number = 2)"
   ]
  },
  {
   "cell_type": "code",
   "execution_count": 410,
   "metadata": {},
   "outputs": [
    {
     "data": {
      "text/plain": [
       "[<matplotlib.lines.Line2D at 0x213e5c7f048>]"
      ]
     },
     "execution_count": 410,
     "metadata": {},
     "output_type": "execute_result"
    },
    {
     "data": {
      "image/png": "[encoded data removed]",
      "text/plain": [
       "<Figure size 432x288 with 1 Axes>"
      ]
     },
     "metadata": {
      "needs_background": "light"
     },
     "output_type": "display_data"
    }
   ],
   "source": [
    "x = [100, 1000, 10000,100000,1000000, 2000000]\n",
    "y = [y1, y2, y3, y4, y5, y6]\n",
    "y_1 = [y01, y02, y03, y04, y05, y06]\n",
    "plt.plot(x, y, color = 'red')\n",
    "plt.plot(x, y_1, color = 'blue')"
   ]
  },
  {
   "cell_type": "code",
   "execution_count": null,
   "metadata": {},
   "outputs": [],
   "source": []
  },
  {
   "cell_type": "code",
   "execution_count": 351,
   "metadata": {},
   "outputs": [],
   "source": [
    "stmt1 = '''df[(df.index <=100) & (df['Global_intensity'] >=19) & (df['Global_intensity'] <= 20) & (df['Sub_metering_2'] > df['Sub_metering_3'])]'''\n",
    "y1 = timeit.timeit(stmt = stmt1, setup = setup, number = 2)"
   ]
  },
  {
   "cell_type": "code",
   "execution_count": 352,
   "metadata": {},
   "outputs": [],
   "source": [
    "stmt2 = '''df[(df.index <=1000) & (df['Global_intensity'] >=19) & (df['Global_intensity'] <= 20) & (df['Sub_metering_2'] > df['Sub_metering_3'])]'''\n",
    "y2 = timeit.timeit(stmt = stmt2, setup = setup, number = 2)"
   ]
  },
  {
   "cell_type": "code",
   "execution_count": 353,
   "metadata": {},
   "outputs": [],
   "source": [
    "stmt3 = '''df[(df.index <=10000) & (df['Global_intensity'] >=19) & (df['Global_intensity'] <= 20) & (df['Sub_metering_2'] > df['Sub_metering_3'])]'''\n",
    "y3 = timeit.timeit(stmt = stmt3, setup = setup, number = 2)"
   ]
  },
  {
   "cell_type": "code",
   "execution_count": 354,
   "metadata": {},
   "outputs": [],
   "source": [
    "stmt4 = '''df[(df.index <=100000) & (df['Global_intensity'] >=19) & (df['Global_intensity'] <= 20) & (df['Sub_metering_2'] > df['Sub_metering_3'])]'''\n",
    "y4 = timeit.timeit(stmt = stmt4, setup = setup, number = 2)"
   ]
  },
  {
   "cell_type": "code",
   "execution_count": 355,
   "metadata": {},
   "outputs": [],
   "source": [
    "stmt5 = '''df[(df.index <=1000000) & (df['Global_intensity'] >=19) & (df['Global_intensity'] <= 20) & (df['Sub_metering_2'] > df['Sub_metering_3'])]'''\n",
    "y5 = timeit.timeit(stmt = stmt5, setup = setup, number = 2)"
   ]
  },
  {
   "cell_type": "code",
   "execution_count": 356,
   "metadata": {},
   "outputs": [],
   "source": [
    "stmt6 = '''df[(df.index <=2000000) & (df['Global_intensity'] >=19) & (df['Global_intensity'] <= 20) & (df['Sub_metering_2'] > df['Sub_metering_3'])]'''\n",
    "y6 = timeit.timeit(stmt = stmt6, setup = setup, number = 2)"
   ]
  },
  {
   "cell_type": "code",
   "execution_count": 357,
   "metadata": {},
   "outputs": [],
   "source": [
    "stmt01 = '''data100 = data[0:100]\n",
    "data100[(data100['Global_intensity']>= 19) & (data100['Global_intensity'] <= 20) & (data100['Sub_metering_2'] > data100['Sub_metering_3'])]'''\n",
    "y01 = timeit.timeit(stmt = stmt01, setup = setup0, number =2)"
   ]
  },
  {
   "cell_type": "code",
   "execution_count": 358,
   "metadata": {},
   "outputs": [],
   "source": [
    "stmt02 = '''data1000 = data[0:1000]\n",
    "data1000[(data1000['Global_intensity']>= 19) & (data1000['Global_intensity'] <= 20) & (data1000['Sub_metering_2'] > data1000['Sub_metering_3'])]'''\n",
    "y02 = timeit.timeit(stmt = stmt02, setup = setup0, number = 2)"
   ]
  },
  {
   "cell_type": "code",
   "execution_count": 359,
   "metadata": {},
   "outputs": [],
   "source": [
    "stmt03 = '''data10000 = data[0:10000]\n",
    "data10000[(data10000['Global_intensity']>= 19) & (data10000['Global_intensity'] <= 20) & (data10000['Sub_metering_2'] > data10000['Sub_metering_3'])]'''\n",
    "y03 = timeit.timeit(stmt = stmt03, setup = setup0, number = 2)"
   ]
  },
  {
   "cell_type": "code",
   "execution_count": 360,
   "metadata": {},
   "outputs": [],
   "source": [
    "stmt04 = '''data100000 = data[0:100000]\n",
    "data100000[(data100000['Global_intensity']>= 19) & (data100000['Global_intensity'] <= 20) & (data100000['Sub_metering_2'] > data100000['Sub_metering_3'])]'''\n",
    "y04 = timeit.timeit(stmt = stmt04, setup = setup0, number = 2)"
   ]
  },
  {
   "cell_type": "code",
   "execution_count": 361,
   "metadata": {},
   "outputs": [],
   "source": [
    "stmt05 = '''data1000000 = data[0:1000000]\n",
    "data1000000[(data1000000['Global_intensity']>= 19) & (data1000000['Global_intensity'] <= 20) & (data1000000['Sub_metering_2'] > data1000000['Sub_metering_3'])]'''\n",
    "y05 = timeit.timeit(stmt = stmt05, setup = setup0, number = 2)"
   ]
  },
  {
   "cell_type": "code",
   "execution_count": 412,
   "metadata": {},
   "outputs": [],
   "source": [
    "stmt06 = '''data2000000 = data[0:2000000]\n",
    "data2000000[(data2000000['Global_intensity']>= 19) & (data2000000['Global_intensity'] <= 20) & (data2000000['Sub_metering_2'] > data2000000['Sub_metering_3'])]'''\n",
    "y06 = timeit.timeit(stmt = stmt06, setup = setup0, number = 2)"
   ]
  },
  {
   "cell_type": "code",
   "execution_count": 413,
   "metadata": {},
   "outputs": [
    {
     "data": {
      "text/plain": [
       "[<matplotlib.lines.Line2D at 0x213dac8d508>]"
      ]
     },
     "execution_count": 413,
     "metadata": {},
     "output_type": "execute_result"
    },
    {
     "data": {
      "image/png": "[encoded data removed]",
      "text/plain": [
       "<Figure size 432x288 with 1 Axes>"
      ]
     },
     "metadata": {
      "needs_background": "light"
     },
     "output_type": "display_data"
    }
   ],
   "source": [
    "x = [100, 1000, 10000,100000,1000000, 2000000]\n",
    "y = [y1, y2, y3, y4, y5, y6]\n",
    "y_1 = [y01, y02, y03, y04, y05, y06]\n",
    "plt.plot(x, y, color = 'red') \n",
    "plt.plot(x, y_1, color = 'blue')"
   ]
  },
  {
   "cell_type": "code",
   "execution_count": null,
   "metadata": {},
   "outputs": [],
   "source": []
  },
  {
   "cell_type": "code",
   "execution_count": 364,
   "metadata": {},
   "outputs": [],
   "source": [
    "setup1 = '''import pandas as pd\n",
    "df = pd.read_csv('Data.csv', sep='[; ]+', engine='python')\n",
    "df1 = df.sample(n=500000)\n",
    "data = df1.to_records()'''"
   ]
  },
  {
   "cell_type": "code",
   "execution_count": 365,
   "metadata": {},
   "outputs": [],
   "source": [
    "stmt1 = '''df1 = df1[df1.index <= 100]\n",
    "df1['Sub_metering_1'].mean()\n",
    "df1['Sub_metering_2'].mean()\n",
    "df1['Sub_metering_3'].mean()'''\n",
    "y1 = timeit.timeit(stmt = stmt1, setup = setup1, number = 2)"
   ]
  },
  {
   "cell_type": "code",
   "execution_count": 366,
   "metadata": {},
   "outputs": [],
   "source": [
    "stmt2 = '''df1 = df1[df1.index <= 1000]\n",
    "df1['Sub_metering_1'].mean()\n",
    "df1['Sub_metering_2'].mean()\n",
    "df1['Sub_metering_3'].mean()'''\n",
    "y2 = timeit.timeit(stmt = stmt2, setup = setup1, number = 2)"
   ]
  },
  {
   "cell_type": "code",
   "execution_count": 367,
   "metadata": {},
   "outputs": [],
   "source": [
    "stmt3 = '''df1 = df1[df1.index <= 10000]\n",
    "df1['Sub_metering_1'].mean()\n",
    "df1['Sub_metering_2'].mean()\n",
    "df1['Sub_metering_3'].mean()'''\n",
    "y3 = timeit.timeit(stmt = stmt3, setup = setup1, number = 2)"
   ]
  },
  {
   "cell_type": "code",
   "execution_count": 368,
   "metadata": {},
   "outputs": [],
   "source": [
    "stmt4 = '''df1 = df1[df1.index <= 100000]\n",
    "df1['Sub_metering_1'].mean()\n",
    "df1['Sub_metering_2'].mean()\n",
    "df1['Sub_metering_3'].mean()'''\n",
    "y4 = timeit.timeit(stmt = stmt4, setup = setup1, number = 2)"
   ]
  },
  {
   "cell_type": "code",
   "execution_count": 369,
   "metadata": {},
   "outputs": [],
   "source": [
    "stmt5 = '''df1 = df1[df1.index <= 1000000]\n",
    "df1['Sub_metering_1'].mean()\n",
    "df1['Sub_metering_2'].mean()\n",
    "df1['Sub_metering_3'].mean()'''\n",
    "y5 = timeit.timeit(stmt = stmt5, setup = setup1, number = 2)"
   ]
  },
  {
   "cell_type": "code",
   "execution_count": 370,
   "metadata": {},
   "outputs": [],
   "source": [
    "stmt6 = '''df1 = df1[df1.index <= 2000000]\n",
    "df1['Sub_metering_1'].mean()\n",
    "df1['Sub_metering_2'].mean()\n",
    "df1['Sub_metering_3'].mean()'''\n",
    "y6 = timeit.timeit(stmt = stmt6, setup = setup1, number = 2)"
   ]
  },
  {
   "cell_type": "code",
   "execution_count": 371,
   "metadata": {},
   "outputs": [],
   "source": [
    "stmt01 = '''data = data[0:100]\n",
    "data['Sub_metering_1'].mean()\n",
    "data['Sub_metering_2'].mean()\n",
    "data['Sub_metering_3'].mean()'''\n",
    "y01 = timeit.timeit(stmt = stmt01, setup = setup1, number = 2)"
   ]
  },
  {
   "cell_type": "code",
   "execution_count": 372,
   "metadata": {},
   "outputs": [],
   "source": [
    "stmt02 = '''data = data[0:1000]\n",
    "data['Sub_metering_1'].mean()\n",
    "data['Sub_metering_2'].mean()\n",
    "data['Sub_metering_3'].mean()'''\n",
    "y02 = timeit.timeit(stmt = stmt02, setup = setup1, number = 2)"
   ]
  },
  {
   "cell_type": "code",
   "execution_count": 373,
   "metadata": {},
   "outputs": [],
   "source": [
    "stmt03 = '''data = data[0:10000]\n",
    "data['Sub_metering_1'].mean()\n",
    "data['Sub_metering_2'].mean()\n",
    "data['Sub_metering_3'].mean()'''\n",
    "y03 = timeit.timeit(stmt = stmt03, setup = setup1, number = 2)"
   ]
  },
  {
   "cell_type": "code",
   "execution_count": 374,
   "metadata": {},
   "outputs": [],
   "source": [
    "stmt04 = '''data = data[0:100000]\n",
    "data['Sub_metering_1'].mean()\n",
    "data['Sub_metering_2'].mean()\n",
    "data['Sub_metering_3'].mean()'''\n",
    "y04 = timeit.timeit(stmt = stmt04, setup = setup1, number = 2)"
   ]
  },
  {
   "cell_type": "code",
   "execution_count": 375,
   "metadata": {},
   "outputs": [],
   "source": [
    "stmt05 = '''data = data[0:1000000]\n",
    "data['Sub_metering_1'].mean()\n",
    "data['Sub_metering_2'].mean()\n",
    "data['Sub_metering_3'].mean()'''\n",
    "y05 = timeit.timeit(stmt = stmt05, setup = setup1, number = 2)"
   ]
  },
  {
   "cell_type": "code",
   "execution_count": 414,
   "metadata": {},
   "outputs": [],
   "source": [
    "stmt06 = '''data = data[0:2000000]\n",
    "data['Sub_metering_1'].mean()\n",
    "data['Sub_metering_2'].mean()\n",
    "data['Sub_metering_3'].mean()'''\n",
    "y06 = timeit.timeit(stmt = stmt06, setup = setup1, number = 2)"
   ]
  },
  {
   "cell_type": "code",
   "execution_count": 415,
   "metadata": {},
   "outputs": [
    {
     "data": {
      "text/plain": [
       "[<matplotlib.lines.Line2D at 0x213daccd308>]"
      ]
     },
     "execution_count": 415,
     "metadata": {},
     "output_type": "execute_result"
    },
    {
     "data": {
      "image/png": "[encoded data removed]",
      "text/plain": [
       "<Figure size 432x288 with 1 Axes>"
      ]
     },
     "metadata": {
      "needs_background": "light"
     },
     "output_type": "display_data"
    }
   ],
   "source": [
    "x = [100, 1000, 10000,100000,1000000, 2000000]\n",
    "y = [y1, y2, y3, y4, y5, y6]\n",
    "y_1 = [y01, y02, y03, y04, y05, y06]\n",
    "plt.plot(x, y, color = 'red') \n",
    "plt.plot(x, y_1, color = 'blue')"
   ]
  },
  {
   "cell_type": "code",
   "execution_count": null,
   "metadata": {},
   "outputs": [],
   "source": []
  },
  {
   "cell_type": "code",
   "execution_count": 378,
   "metadata": {},
   "outputs": [],
   "source": [
    "\n",
    "stmt1 = '''df2 = df[(df.index <= 100) & (df.Time >= '18:00:00') & (df.Global_active_power > 6) & (df.Sub_metering_2 > df.Sub_metering_1) & (df.Sub_metering_2 > df.Sub_metering_3)]\n",
    "df2 = df2.reset_index(drop=True)\n",
    "df2_1 = df2[(df2.index < len(df2)//2) & (df2.index % 3 == 0)]\n",
    "df2_2 = df2[(df2.index >= len(df2)//2) & (df2.index % 4 == 0)]\n",
    "df3 = pd.concat([df2_1, df2_2])'''\n",
    "y1 = timeit.timeit(stmt = stmt1, setup = setup, number = 1)"
   ]
  },
  {
   "cell_type": "code",
   "execution_count": 379,
   "metadata": {},
   "outputs": [],
   "source": [
    "\n",
    "stmt2 = '''df2 = df[(df.index <= 1000) & (df.Time >= '18:00:00') & (df.Global_active_power > 6) & (df.Sub_metering_2 > df.Sub_metering_1) & (df.Sub_metering_2 > df.Sub_metering_3)]\n",
    "df2 = df2.reset_index(drop=True)\n",
    "df2_1 = df2[(df2.index < len(df2)//2) & (df2.index % 3 == 0)]\n",
    "df2_2 = df2[(df2.index >= len(df2)//2) & (df2.index % 4 == 0)]\n",
    "df3 = pd.concat([df2_1, df2_2])'''\n",
    "y2 = timeit.timeit(stmt = stmt2, setup = setup, number = 1)"
   ]
  },
  {
   "cell_type": "code",
   "execution_count": 380,
   "metadata": {},
   "outputs": [],
   "source": [
    "stmt3 = '''df2 = df[(df.index <= 10000) & (df.Time >= '18:00:00') & (df.Global_active_power > 6) & (df.Sub_metering_2 > df.Sub_metering_1) & (df.Sub_metering_2 > df.Sub_metering_3)]\n",
    "df2 = df2.reset_index(drop=True)\n",
    "df2_1 = df2[(df2.index < len(df2)//2) & (df2.index % 3 == 0)]\n",
    "df2_2 = df2[(df2.index >= len(df2)//2) & (df2.index % 4 == 0)]\n",
    "df3 = pd.concat([df2_1, df2_2])'''\n",
    "y3 = timeit.timeit(stmt = stmt3, setup = setup, number = 1)"
   ]
  },
  {
   "cell_type": "code",
   "execution_count": 381,
   "metadata": {},
   "outputs": [],
   "source": [
    "stmt4 = '''df2 = df[(df.index <= 100000) & (df.Time >= '18:00:00') & (df.Global_active_power > 6) & (df.Sub_metering_2 > df.Sub_metering_1) & (df.Sub_metering_2 > df.Sub_metering_3)]\n",
    "df2 = df2.reset_index(drop=True)\n",
    "df2_1 = df2[(df2.index < len(df2)//2) & (df2.index % 3 == 0)]\n",
    "df2_2 = df2[(df2.index >= len(df2)//2) & (df2.index % 4 == 0)]\n",
    "df3 = pd.concat([df2_1, df2_2])'''\n",
    "y4 = timeit.timeit(stmt = stmt4, setup = setup, number = 1)"
   ]
  },
  {
   "cell_type": "code",
   "execution_count": 382,
   "metadata": {},
   "outputs": [],
   "source": [
    "stmt5 = '''df2 = df[(df.index <= 1000000) & (df.Time >= '18:00:00') & (df.Global_active_power > 6) & (df.Sub_metering_2 > df.Sub_metering_1) & (df.Sub_metering_2 > df.Sub_metering_3)]\n",
    "df2 = df2.reset_index(drop=True)\n",
    "df2_1 = df2[(df2.index < len(df2)//2) & (df2.index % 3 == 0)]\n",
    "df2_2 = df2[(df2.index >= len(df2)//2) & (df2.index % 4 == 0)]\n",
    "df3 = pd.concat([df2_1, df2_2])'''\n",
    "y5 = timeit.timeit(stmt = stmt5, setup = setup, number = 1)"
   ]
  },
  {
   "cell_type": "code",
   "execution_count": 383,
   "metadata": {},
   "outputs": [],
   "source": [
    "stmt6 = '''df2 = df[(df.index <= 2000000) & (df.Time >= '18:00:00') & (df.Global_active_power > 6) & (df.Sub_metering_2 > df.Sub_metering_1) & (df.Sub_metering_2 > df.Sub_metering_3)]\n",
    "df2 = df2.reset_index(drop=True)\n",
    "df2_1 = df2[(df2.index < len(df2)//2) & (df2.index % 3 == 0)]\n",
    "df2_2 = df2[(df2.index >= len(df2)//2) & (df2.index % 4 == 0)]'''\n",
    "y6 = timeit.timeit(stmt = stmt6, setup = setup, number = 1)"
   ]
  },
  {
   "cell_type": "code",
   "execution_count": 384,
   "metadata": {},
   "outputs": [],
   "source": [
    "stmt01 = '''\n",
    "data = data[0:100]\n",
    "data = data[(data['Time'] >= '18:00:00') & (data['Global_active_power'] > 6) & (data['Sub_metering_2'] > data['Sub_metering_1']) & (data['Sub_metering_2'] > data['Sub_metering_3'])]\n",
    "data[0:len(data)//2:3]\n",
    "data[len(data)//2+1::4]'''\n",
    "y01 = timeit.timeit(stmt = stmt01, setup = setup0, number = 1)"
   ]
  },
  {
   "cell_type": "code",
   "execution_count": 385,
   "metadata": {},
   "outputs": [],
   "source": [
    "stmt02 = '''\n",
    "data = data[0:1000]\n",
    "data = data[(data['Time'] >= '18:00:00') & (data['Global_active_power'] > 6) & (data['Sub_metering_2'] > data['Sub_metering_1']) & (data['Sub_metering_2'] > data['Sub_metering_3'])]\n",
    "data[0:len(data)//2:3]\n",
    "data[len(data)//2+1::4]'''\n",
    "y02 = timeit.timeit(stmt = stmt02, setup = setup0, number = 1)"
   ]
  },
  {
   "cell_type": "code",
   "execution_count": 386,
   "metadata": {},
   "outputs": [],
   "source": [
    "stmt03 = '''\n",
    "data = data[0:10000]\n",
    "data = data[(data['Time'] >= '18:00:00') & (data['Global_active_power'] > 6) & (data['Sub_metering_2'] > data['Sub_metering_1']) & (data['Sub_metering_2'] > data['Sub_metering_3'])]\n",
    "data[0:len(data)//2:3]\n",
    "data[len(data)//2+1::4]'''\n",
    "y03 = timeit.timeit(stmt = stmt03, setup = setup0, number = 1)"
   ]
  },
  {
   "cell_type": "code",
   "execution_count": 387,
   "metadata": {},
   "outputs": [],
   "source": [
    "stmt04 = '''\n",
    "data = data[0:100000]\n",
    "data = data[(data['Time'] >= '18:00:00') & (data['Global_active_power'] > 6) & (data['Sub_metering_2'] > data['Sub_metering_1']) & (data['Sub_metering_2'] > data['Sub_metering_3'])]\n",
    "data[0:len(data)//2:3]\n",
    "data[len(data)//2+1::4]'''\n",
    "y04 = timeit.timeit(stmt = stmt04, setup = setup0, number = 1)"
   ]
  },
  {
   "cell_type": "code",
   "execution_count": 388,
   "metadata": {},
   "outputs": [],
   "source": [
    "stmt05 = '''\n",
    "data = data[0:1000000]\n",
    "data = data[(data['Time'] >= '18:00:00') & (data['Global_active_power'] > 6) & (data['Sub_metering_2'] > data['Sub_metering_1']) & (data['Sub_metering_2'] > data['Sub_metering_3'])]\n",
    "data[0:len(data)//2:3]\n",
    "data[len(data)//2+1::4]'''\n",
    "y05 = timeit.timeit(stmt = stmt05, setup = setup0, number = 1)"
   ]
  },
  {
   "cell_type": "code",
   "execution_count": 416,
   "metadata": {},
   "outputs": [],
   "source": [
    "stmt06 = '''\n",
    "data = data[0:2000000]\n",
    "data = data[(data['Time'] >= '18:00:00') & (data['Global_active_power'] > 6) & (data['Sub_metering_2'] > data['Sub_metering_1']) & (data['Sub_metering_2'] > data['Sub_metering_3'])]\n",
    "data[0:len(data)//2:3]\n",
    "data[len(data)//2+1::4]'''\n",
    "y06 = timeit.timeit(stmt = stmt06, setup = setup0, number = 1)"
   ]
  },
  {
   "cell_type": "code",
   "execution_count": 417,
   "metadata": {},
   "outputs": [
    {
     "data": {
      "text/plain": [
       "[<matplotlib.lines.Line2D at 0x213e5218ec8>]"
      ]
     },
     "execution_count": 417,
     "metadata": {},
     "output_type": "execute_result"
    },
    {
     "data": {
      "image/png": "[encoded data removed]",
      "text/plain": [
       "<Figure size 432x288 with 1 Axes>"
      ]
     },
     "metadata": {
      "needs_background": "light"
     },
     "output_type": "display_data"
    }
   ],
   "source": [
    "x = [10000,100000,1000000, 2000000]\n",
    "y = [y3, y4, y5, y6]\n",
    "y_1 = [y03, y04, y05, y06]\n",
    "plt.plot(x, y, color = 'red') \n",
    "plt.plot(x, y_1, color = 'blue')"
   ]
  },
  {
   "cell_type": "code",
   "execution_count": null,
   "metadata": {},
   "outputs": [],
   "source": []
  },
  {
   "cell_type": "code",
   "execution_count": null,
   "metadata": {},
   "outputs": [],
   "source": []
  },
  {
   "cell_type": "code",
   "execution_count": null,
   "metadata": {},
   "outputs": [],
   "source": []
  }
 ],
 "metadata": {
  "kernelspec": {
   "display_name": "Python 3",
   "language": "python",
   "name": "python3"
  },
  "language_info": {
   "codemirror_mode": {
    "name": "ipython",
    "version": 3
   },
   "file_extension": ".py",
   "mimetype": "text/x-python",
   "name": "python",
   "nbconvert_exporter": "python",
   "pygments_lexer": "ipython3",
   "version": "3.7.4"
  }
 },
 "nbformat": 4,
 "nbformat_minor": 2
}
